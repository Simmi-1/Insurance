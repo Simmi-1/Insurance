{
 "cells": [
  {
   "cell_type": "markdown",
   "id": "15b70de6",
   "metadata": {},
   "source": [
    "# <u>Group 1</u>\n",
    "### Project \n",
    "   Motor Insurance Claims <br>\n",
    "   Solution\n",
    "\n",
    "### Team members:\n",
    "<table align=\"left\" style=\"font-size: 1em;\" >\n",
    "    <tr>\n",
    "        <td>Jigyasu Saini</td>\n",
    "        <td>jigyashusaini7@gmail.com</td>\n",
    "    </tr>\n",
    "     <tr>\n",
    "        <td>Prateek Advani</td>\n",
    "        <td>prateekadvani7@gmail.com</td>\n",
    "    </tr>\n",
    "     <tr>\n",
    "        <td>Simran Gupta</td>\n",
    "        <td>simrungupta98@gmail.com</td>\n",
    "    </tr>\n",
    "     <tr>\n",
    "        <td>Priyanka Mahto</td>\n",
    "        <td>friendmahto12345@gmail.com</td>\n",
    "    </tr>\n",
    "</table>"
   ]
  },
  {
   "cell_type": "markdown",
   "id": "b4e62920",
   "metadata": {},
   "source": [
    "#### The data gives the details of third party motor insurance claims in Sweden for the year 1977. In Sweden, all motor insurance companies apply identical risk arguments to classify customers, and thus their portfolios and their claims statistics can be combined. The data were compiled by a Swedish Committee on the Analysis of Risk Premium in Motor Insurance. The Committee was asked to look into the problem of analyzing the real influence on the claims of the risk arguments and to compare this structure with the actual tariff."
   ]
  },
  {
   "cell_type": "code",
   "execution_count": 2,
   "id": "176c4cce",
   "metadata": {},
   "outputs": [
    {
     "data": {
      "text/html": [
       "<div>\n",
       "<style scoped>\n",
       "    .dataframe tbody tr th:only-of-type {\n",
       "        vertical-align: middle;\n",
       "    }\n",
       "\n",
       "    .dataframe tbody tr th {\n",
       "        vertical-align: top;\n",
       "    }\n",
       "\n",
       "    .dataframe thead th {\n",
       "        text-align: right;\n",
       "    }\n",
       "</style>\n",
       "<table border=\"1\" class=\"dataframe\">\n",
       "  <thead>\n",
       "    <tr style=\"text-align: right;\">\n",
       "      <th></th>\n",
       "      <th>Kilometres</th>\n",
       "      <th>Zone</th>\n",
       "      <th>Bonus</th>\n",
       "      <th>Make</th>\n",
       "      <th>Insured</th>\n",
       "      <th>Claims</th>\n",
       "      <th>Payment</th>\n",
       "    </tr>\n",
       "  </thead>\n",
       "  <tbody>\n",
       "    <tr>\n",
       "      <th>0</th>\n",
       "      <td>1</td>\n",
       "      <td>1</td>\n",
       "      <td>1</td>\n",
       "      <td>1</td>\n",
       "      <td>455.13</td>\n",
       "      <td>108</td>\n",
       "      <td>392491</td>\n",
       "    </tr>\n",
       "    <tr>\n",
       "      <th>1</th>\n",
       "      <td>1</td>\n",
       "      <td>1</td>\n",
       "      <td>1</td>\n",
       "      <td>2</td>\n",
       "      <td>69.17</td>\n",
       "      <td>19</td>\n",
       "      <td>46221</td>\n",
       "    </tr>\n",
       "    <tr>\n",
       "      <th>2</th>\n",
       "      <td>1</td>\n",
       "      <td>1</td>\n",
       "      <td>1</td>\n",
       "      <td>3</td>\n",
       "      <td>72.88</td>\n",
       "      <td>13</td>\n",
       "      <td>15694</td>\n",
       "    </tr>\n",
       "    <tr>\n",
       "      <th>3</th>\n",
       "      <td>1</td>\n",
       "      <td>1</td>\n",
       "      <td>1</td>\n",
       "      <td>4</td>\n",
       "      <td>1292.39</td>\n",
       "      <td>124</td>\n",
       "      <td>422201</td>\n",
       "    </tr>\n",
       "    <tr>\n",
       "      <th>4</th>\n",
       "      <td>1</td>\n",
       "      <td>1</td>\n",
       "      <td>1</td>\n",
       "      <td>5</td>\n",
       "      <td>191.01</td>\n",
       "      <td>40</td>\n",
       "      <td>119373</td>\n",
       "    </tr>\n",
       "    <tr>\n",
       "      <th>...</th>\n",
       "      <td>...</td>\n",
       "      <td>...</td>\n",
       "      <td>...</td>\n",
       "      <td>...</td>\n",
       "      <td>...</td>\n",
       "      <td>...</td>\n",
       "      <td>...</td>\n",
       "    </tr>\n",
       "    <tr>\n",
       "      <th>2177</th>\n",
       "      <td>5</td>\n",
       "      <td>7</td>\n",
       "      <td>7</td>\n",
       "      <td>5</td>\n",
       "      <td>8.74</td>\n",
       "      <td>0</td>\n",
       "      <td>0</td>\n",
       "    </tr>\n",
       "    <tr>\n",
       "      <th>2178</th>\n",
       "      <td>5</td>\n",
       "      <td>7</td>\n",
       "      <td>7</td>\n",
       "      <td>6</td>\n",
       "      <td>16.61</td>\n",
       "      <td>0</td>\n",
       "      <td>0</td>\n",
       "    </tr>\n",
       "    <tr>\n",
       "      <th>2179</th>\n",
       "      <td>5</td>\n",
       "      <td>7</td>\n",
       "      <td>7</td>\n",
       "      <td>7</td>\n",
       "      <td>2.83</td>\n",
       "      <td>1</td>\n",
       "      <td>966</td>\n",
       "    </tr>\n",
       "    <tr>\n",
       "      <th>2180</th>\n",
       "      <td>5</td>\n",
       "      <td>7</td>\n",
       "      <td>7</td>\n",
       "      <td>8</td>\n",
       "      <td>13.06</td>\n",
       "      <td>0</td>\n",
       "      <td>0</td>\n",
       "    </tr>\n",
       "    <tr>\n",
       "      <th>2181</th>\n",
       "      <td>5</td>\n",
       "      <td>7</td>\n",
       "      <td>7</td>\n",
       "      <td>9</td>\n",
       "      <td>384.87</td>\n",
       "      <td>16</td>\n",
       "      <td>112252</td>\n",
       "    </tr>\n",
       "  </tbody>\n",
       "</table>\n",
       "<p>2182 rows × 7 columns</p>\n",
       "</div>"
      ],
      "text/plain": [
       "      Kilometres  Zone  Bonus  Make  Insured  Claims  Payment\n",
       "0              1     1      1     1   455.13     108   392491\n",
       "1              1     1      1     2    69.17      19    46221\n",
       "2              1     1      1     3    72.88      13    15694\n",
       "3              1     1      1     4  1292.39     124   422201\n",
       "4              1     1      1     5   191.01      40   119373\n",
       "...          ...   ...    ...   ...      ...     ...      ...\n",
       "2177           5     7      7     5     8.74       0        0\n",
       "2178           5     7      7     6    16.61       0        0\n",
       "2179           5     7      7     7     2.83       1      966\n",
       "2180           5     7      7     8    13.06       0        0\n",
       "2181           5     7      7     9   384.87      16   112252\n",
       "\n",
       "[2182 rows x 7 columns]"
      ]
     },
     "execution_count": 2,
     "metadata": {},
     "output_type": "execute_result"
    }
   ],
   "source": [
    "# importing the pandas as pd to read the provided csv file and to perform some basis operation on it\n",
    "import pandas as pd\n",
    "\n",
    "# reading the provided data into insuranceData variable\n",
    "insuranceData = pd.read_csv(\"Project 4_Insurance_factor_identification.csv\")\n",
    "insuranceData"
   ]
  },
  {
   "cell_type": "markdown",
   "id": "6b41b719",
   "metadata": {},
   "source": [
    "### The committee is interested to know each field of the data collected through descriptive analysis to gain basic insights into the data set and to prepare for further analysis."
   ]
  },
  {
   "cell_type": "code",
   "execution_count": 3,
   "id": "292c6b3c",
   "metadata": {},
   "outputs": [
    {
     "name": "stdout",
     "output_type": "stream",
     "text": [
      "Dimensions: (2182, 7)\n",
      "Description:\n"
     ]
    },
    {
     "data": {
      "text/html": [
       "<div>\n",
       "<style scoped>\n",
       "    .dataframe tbody tr th:only-of-type {\n",
       "        vertical-align: middle;\n",
       "    }\n",
       "\n",
       "    .dataframe tbody tr th {\n",
       "        vertical-align: top;\n",
       "    }\n",
       "\n",
       "    .dataframe thead th {\n",
       "        text-align: right;\n",
       "    }\n",
       "</style>\n",
       "<table border=\"1\" class=\"dataframe\">\n",
       "  <thead>\n",
       "    <tr style=\"text-align: right;\">\n",
       "      <th></th>\n",
       "      <th>Kilometres</th>\n",
       "      <th>Zone</th>\n",
       "      <th>Bonus</th>\n",
       "      <th>Make</th>\n",
       "      <th>Insured</th>\n",
       "      <th>Claims</th>\n",
       "      <th>Payment</th>\n",
       "    </tr>\n",
       "  </thead>\n",
       "  <tbody>\n",
       "    <tr>\n",
       "      <th>count</th>\n",
       "      <td>2182.000000</td>\n",
       "      <td>2182.000000</td>\n",
       "      <td>2182.000000</td>\n",
       "      <td>2182.000000</td>\n",
       "      <td>2182.000000</td>\n",
       "      <td>2182.000000</td>\n",
       "      <td>2.182000e+03</td>\n",
       "    </tr>\n",
       "    <tr>\n",
       "      <th>mean</th>\n",
       "      <td>2.985793</td>\n",
       "      <td>3.970211</td>\n",
       "      <td>4.015124</td>\n",
       "      <td>4.991751</td>\n",
       "      <td>1092.195270</td>\n",
       "      <td>51.865720</td>\n",
       "      <td>2.570076e+05</td>\n",
       "    </tr>\n",
       "    <tr>\n",
       "      <th>std</th>\n",
       "      <td>1.410409</td>\n",
       "      <td>1.988858</td>\n",
       "      <td>2.000516</td>\n",
       "      <td>2.586943</td>\n",
       "      <td>5661.156245</td>\n",
       "      <td>201.710694</td>\n",
       "      <td>1.017283e+06</td>\n",
       "    </tr>\n",
       "    <tr>\n",
       "      <th>min</th>\n",
       "      <td>1.000000</td>\n",
       "      <td>1.000000</td>\n",
       "      <td>1.000000</td>\n",
       "      <td>1.000000</td>\n",
       "      <td>0.010000</td>\n",
       "      <td>0.000000</td>\n",
       "      <td>0.000000e+00</td>\n",
       "    </tr>\n",
       "    <tr>\n",
       "      <th>25%</th>\n",
       "      <td>2.000000</td>\n",
       "      <td>2.000000</td>\n",
       "      <td>2.000000</td>\n",
       "      <td>3.000000</td>\n",
       "      <td>21.610000</td>\n",
       "      <td>1.000000</td>\n",
       "      <td>2.988750e+03</td>\n",
       "    </tr>\n",
       "    <tr>\n",
       "      <th>50%</th>\n",
       "      <td>3.000000</td>\n",
       "      <td>4.000000</td>\n",
       "      <td>4.000000</td>\n",
       "      <td>5.000000</td>\n",
       "      <td>81.525000</td>\n",
       "      <td>5.000000</td>\n",
       "      <td>2.740350e+04</td>\n",
       "    </tr>\n",
       "    <tr>\n",
       "      <th>75%</th>\n",
       "      <td>4.000000</td>\n",
       "      <td>6.000000</td>\n",
       "      <td>6.000000</td>\n",
       "      <td>7.000000</td>\n",
       "      <td>389.782500</td>\n",
       "      <td>21.000000</td>\n",
       "      <td>1.119538e+05</td>\n",
       "    </tr>\n",
       "    <tr>\n",
       "      <th>max</th>\n",
       "      <td>5.000000</td>\n",
       "      <td>7.000000</td>\n",
       "      <td>7.000000</td>\n",
       "      <td>9.000000</td>\n",
       "      <td>127687.270000</td>\n",
       "      <td>3338.000000</td>\n",
       "      <td>1.824503e+07</td>\n",
       "    </tr>\n",
       "  </tbody>\n",
       "</table>\n",
       "</div>"
      ],
      "text/plain": [
       "        Kilometres         Zone        Bonus         Make        Insured  \\\n",
       "count  2182.000000  2182.000000  2182.000000  2182.000000    2182.000000   \n",
       "mean      2.985793     3.970211     4.015124     4.991751    1092.195270   \n",
       "std       1.410409     1.988858     2.000516     2.586943    5661.156245   \n",
       "min       1.000000     1.000000     1.000000     1.000000       0.010000   \n",
       "25%       2.000000     2.000000     2.000000     3.000000      21.610000   \n",
       "50%       3.000000     4.000000     4.000000     5.000000      81.525000   \n",
       "75%       4.000000     6.000000     6.000000     7.000000     389.782500   \n",
       "max       5.000000     7.000000     7.000000     9.000000  127687.270000   \n",
       "\n",
       "            Claims       Payment  \n",
       "count  2182.000000  2.182000e+03  \n",
       "mean     51.865720  2.570076e+05  \n",
       "std     201.710694  1.017283e+06  \n",
       "min       0.000000  0.000000e+00  \n",
       "25%       1.000000  2.988750e+03  \n",
       "50%       5.000000  2.740350e+04  \n",
       "75%      21.000000  1.119538e+05  \n",
       "max    3338.000000  1.824503e+07  "
      ]
     },
     "execution_count": 3,
     "metadata": {},
     "output_type": "execute_result"
    }
   ],
   "source": [
    "# performing descriptive analysis\n",
    "print(\"Dimensions:\",insuranceData.shape)\n",
    "print(\"Description:\")\n",
    "insuranceData.describe()\n",
    "\n",
    "# Conclusion:\n",
    "# count is alike for all the variable, means data does not contains any missing field\n",
    "# max, min, mean, std values of various variables\n",
    "# the given data has 2182 rows(observations) and 7 columns(variables)"
   ]
  },
  {
   "cell_type": "markdown",
   "id": "78afb4c2",
   "metadata": {},
   "source": [
    "### The total value of payment by an insurance company is an important factor to be monitored. So the committee has decided to find whether this payment is related to the number of claims and the number of insured policy years. They also want to visualize the results for better understanding."
   ]
  },
  {
   "cell_type": "code",
   "execution_count": 4,
   "id": "0d117afa",
   "metadata": {},
   "outputs": [
    {
     "name": "stdout",
     "output_type": "stream",
     "text": [
      "The correlation coefficient values of (Payment and Insured) and (Payment and Claims) \n"
     ]
    },
    {
     "data": {
      "text/html": [
       "<div>\n",
       "<style scoped>\n",
       "    .dataframe tbody tr th:only-of-type {\n",
       "        vertical-align: middle;\n",
       "    }\n",
       "\n",
       "    .dataframe tbody tr th {\n",
       "        vertical-align: top;\n",
       "    }\n",
       "\n",
       "    .dataframe thead th {\n",
       "        text-align: right;\n",
       "    }\n",
       "</style>\n",
       "<table border=\"1\" class=\"dataframe\">\n",
       "  <thead>\n",
       "    <tr style=\"text-align: right;\">\n",
       "      <th></th>\n",
       "      <th>Insured</th>\n",
       "      <th>Claims</th>\n",
       "    </tr>\n",
       "  </thead>\n",
       "  <tbody>\n",
       "    <tr>\n",
       "      <th>Payment</th>\n",
       "      <td>0.933217</td>\n",
       "      <td>0.9954</td>\n",
       "    </tr>\n",
       "  </tbody>\n",
       "</table>\n",
       "</div>"
      ],
      "text/plain": [
       "          Insured  Claims\n",
       "Payment  0.933217  0.9954"
      ]
     },
     "execution_count": 4,
     "metadata": {},
     "output_type": "execute_result"
    }
   ],
   "source": [
    "# in order to comment over the relations between payment and other variables, we need to find the correlation between them\n",
    "print(\"The correlation coefficient values of (Payment and Insured) and (Payment and Claims) \")\n",
    "insuranceData.corr().iloc[[6],[4,5]]"
   ]
  },
  {
   "cell_type": "code",
   "execution_count": 5,
   "id": "342fd0cb",
   "metadata": {},
   "outputs": [
    {
     "data": {
      "image/png": "[encoded data removed]",
      "text/plain": [
       "<Figure size 432x288 with 1 Axes>"
      ]
     },
     "metadata": {
      "needs_background": "light"
     },
     "output_type": "display_data"
    },
    {
     "data": {
      "image/png": "[encoded data removed]",
      "text/plain": [
       "<Figure size 432x288 with 1 Axes>"
      ]
     },
     "metadata": {
      "needs_background": "light"
     },
     "output_type": "display_data"
    }
   ],
   "source": [
    "# in order to represent this visually, we shall draw regression line and scatter ploat\n",
    "import matplotlib.pyplot as plt\n",
    "import statsmodels.formula.api as smapi\n",
    "modelClaims = smapi.ols(formula='Payment ~ Claims',data=insuranceData).fit()\n",
    "modelInsured = smapi.ols(formula='Payment ~ Insured',data=insuranceData).fit()\n",
    "\n",
    "plt.plot(insuranceData['Claims'],insuranceData['Payment'],'.')\n",
    "plt.plot(insuranceData['Claims'],modelClaims.predict(),'r',linewidth=1)\n",
    "plt.ylabel('Payments')\n",
    "plt.xlabel('Claims')\n",
    "plt.title('Payments VS Claims')\n",
    "plt.show()\n",
    "\n",
    "\n",
    "plt.plot(insuranceData['Insured'],insuranceData['Payment'],'.')\n",
    "plt.plot(insuranceData['Insured'],modelInsured.predict(),'r',linewidth=1)\n",
    "plt.ylabel('Payments')\n",
    "plt.xlabel('Insured')\n",
    "plt.title('Payments VS Insured')\n",
    "plt.show()\n",
    "\n"
   ]
  },
  {
   "cell_type": "code",
   "execution_count": 6,
   "id": "49a161b1",
   "metadata": {},
   "outputs": [],
   "source": [
    "# Conclusion:\n",
    "# we can see that the value of Correlation Coefficient is very close to positive 1, means payment is strongly and positively\n",
    "#     related to the Insured and Claims\n",
    "# we can visualise it using the regression line as shown above.\n"
   ]
  },
  {
   "cell_type": "markdown",
   "id": "6bca5c04",
   "metadata": {},
   "source": [
    "### The committee wants to figure out the reasons for insurance payment increase and decrease. So they have decided to find whether distance, location, bonus, make, and insured amount or claims are affecting the payment of all or some of these are affecting it."
   ]
  },
  {
   "cell_type": "code",
   "execution_count": 12,
   "id": "39704862",
   "metadata": {},
   "outputs": [
    {
     "name": "stdout",
     "output_type": "stream",
     "text": [
      "                            OLS Regression Results                            \n",
      "==============================================================================\n",
      "Dep. Variable:                Payment   R-squared:                       0.995\n",
      "Model:                            OLS   Adj. R-squared:                  0.995\n",
      "Method:                 Least Squares   F-statistic:                 7.462e+04\n",
      "Date:                Mon, 11 Apr 2022   Prob (F-statistic):               0.00\n",
      "Time:                        15:56:32   Log-Likelihood:                -27461.\n",
      "No. Observations:                2182   AIC:                         5.494e+04\n",
      "Df Residuals:                    2175   BIC:                         5.498e+04\n",
      "Df Model:                           6                                         \n",
      "Covariance Type:            nonrobust                                         \n",
      "==============================================================================\n",
      "                 coef    std err          t      P>|t|      [0.025      0.975]\n",
      "------------------------------------------------------------------------------\n",
      "Intercept  -2.173e+04   6338.112     -3.429      0.001   -3.42e+04   -9304.354\n",
      "Kilometres  4768.5641   1085.728      4.392      0.000    2639.392    6897.737\n",
      "Zone        2322.8967    773.508      3.003      0.003     806.005    3839.789\n",
      "Bonus       1182.8983    773.748      1.529      0.126    -334.465    2700.261\n",
      "Make        -754.2676    610.680     -1.235      0.217   -1951.845     443.310\n",
      "Insured       27.8802      0.665     41.913      0.000      26.576      29.185\n",
      "Claims      4315.8778     18.946    227.793      0.000    4278.723    4353.033\n",
      "==============================================================================\n",
      "Omnibus:                      877.117   Durbin-Watson:                   1.915\n",
      "Prob(Omnibus):                  0.000   Jarque-Bera (JB):           130119.607\n",
      "Skew:                           0.815   Prob(JB):                         0.00\n",
      "Kurtosis:                      40.796   Cond. No.                     2.43e+04\n",
      "==============================================================================\n",
      "\n",
      "Notes:\n",
      "[1] Standard Errors assume that the covariance matrix of the errors is correctly specified.\n",
      "[2] The condition number is large, 2.43e+04. This might indicate that there are\n",
      "strong multicollinearity or other numerical problems.\n"
     ]
    }
   ],
   "source": [
    "# Independent variable: insured, claims, make, bonus, zone, and kilometers\n",
    "# Dependent variable: payment\n",
    "\n",
    "# we need to analyse the pValues in order to comment\n",
    "import statsmodels.formula.api as smapi\n",
    "model1 = smapi.ols(formula='Payment ~ Kilometres + Zone + Bonus + Make + Insured + Claims',data=insuranceData).fit()\n",
    "print (model1.summary());"
   ]
  },
  {
   "cell_type": "code",
   "execution_count": null,
   "id": "a09312bd",
   "metadata": {},
   "outputs": [],
   "source": [
    "#importing library to plot regression graph"
   ]
  },
  {
   "cell_type": "code",
   "execution_count": null,
   "id": "3fa181d6",
   "metadata": {},
   "outputs": [],
   "source": [
    "import matplotlib.pyplot as plt"
   ]
  },
  {
   "cell_type": "code",
   "execution_count": null,
   "id": "a382f529",
   "metadata": {},
   "outputs": [],
   "source": [
    "## prediction\n",
    "pred = model1.predict()"
   ]
  },
  {
   "cell_type": "code",
   "execution_count": null,
   "id": "3329d35e",
   "metadata": {},
   "outputs": [],
   "source": [
    "pred"
   ]
  },
  {
   "cell_type": "code",
   "execution_count": 91,
   "id": "fd3a6c84",
   "metadata": {},
   "outputs": [
    {
     "data": {
      "text/plain": [
       "array([[  1.  ,   1.  ,   1.  ,   1.  , 455.13, 108.  ],\n",
       "       [  1.  ,   1.  ,   1.  ,   2.  ,  69.17,  19.  ],\n",
       "       [  1.  ,   1.  ,   1.  ,   3.  ,  72.88,  13.  ],\n",
       "       ...,\n",
       "       [  5.  ,   7.  ,   7.  ,   7.  ,   2.83,   1.  ],\n",
       "       [  5.  ,   7.  ,   7.  ,   8.  ,  13.06,   0.  ],\n",
       "       [  5.  ,   7.  ,   7.  ,   9.  , 384.87,  16.  ]])"
      ]
     },
     "execution_count": 91,
     "metadata": {},
     "output_type": "execute_result"
    }
   ],
   "source": [
    "x=insuranceData.drop(['Payment'],axis=1).values\n",
    "y=insuranceData['Payment'].values\n",
    "x"
   ]
  },
  {
   "cell_type": "code",
   "execution_count": 94,
   "id": "2fa88555",
   "metadata": {},
   "outputs": [
    {
     "data": {
      "image/png": "[encoded data removed]",
      "text/plain": [
       "<Figure size 432x288 with 1 Axes>"
      ]
     },
     "metadata": {
      "needs_background": "light"
     },
     "output_type": "display_data"
    }
   ],
   "source": [
    "## plotting the graph\n",
    "plt.plot(y,x,'.')\n",
    "plt.plot(y,pred,'p',linewidth=1)\n",
    "plt.ylabel('Payments')\n",
    "plt.xlabel('multiple variables')\n",
    "plt.title('Multiple Linear Regression')\n",
    "plt.show()"
   ]
  },
  {
   "cell_type": "markdown",
   "id": "3015d608",
   "metadata": {},
   "source": [
    "From this we can see the regression graph and this would help us predict the payment values. The high p value of make and bonus show they do not make much influence on the payment. "
   ]
  },
  {
   "cell_type": "code",
   "execution_count": 9,
   "id": "bc2f9b1f",
   "metadata": {},
   "outputs": [],
   "source": [
    "# Conclusion:\n",
    "# On the basis of 'pValue', we can state that else than 'bonus' and 'make', all other variables are significant(pValue < 0.05)"
   ]
  },
  {
   "cell_type": "markdown",
   "id": "69ebaa4f",
   "metadata": {},
   "source": [
    "### The insurance company is planning to establish a new branch office, so they are interested to find at what location, kilometer, and bonus level their insured amount, claims, and payment gets increased. "
   ]
  },
  {
   "cell_type": "code",
   "execution_count": 10,
   "id": "e1a055c8",
   "metadata": {},
   "outputs": [
    {
     "name": "stdout",
     "output_type": "stream",
     "text": [
      "          Insured      Claims        Payment\n",
      "Zone                                        \n",
      "1     1036.171746   73.568254  338518.946032\n",
      "2     1231.481841   67.625397  319921.517460\n",
      "3     1362.958698   63.295238  307550.853968\n",
      "4     2689.380413  101.311111  537071.755556\n",
      "5      384.801885   19.047923   93001.843450\n",
      "6      802.684571   32.577778  175528.469841\n",
      "7       64.910714    2.108844    9948.190476\n",
      "\n",
      "\n",
      "                Insured     Claims        Payment\n",
      "Kilometres                                       \n",
      "1           1837.816287  75.594533  361899.350797\n",
      "2           1824.028844  89.276644  442523.780045\n",
      "3           1081.971383  54.160998  272012.582766\n",
      "4            398.963226  20.794931  108213.405530\n",
      "5            284.947518  18.042155   93306.117096\n",
      "\n",
      "\n",
      "           Insured      Claims        Payment\n",
      "Bonus                                        \n",
      "1       525.550195   62.504886  282921.993485\n",
      "2       451.075449   34.233974  163316.625000\n",
      "3       397.473742   24.974194  122656.174194\n",
      "4       360.386710   20.351613   98498.119355\n",
      "5       437.393610   22.821086  108790.504792\n",
      "6       805.816730   39.942857  197723.819048\n",
      "7      4620.372762  157.222222  819322.476190\n"
     ]
    }
   ],
   "source": [
    "# for the location\n",
    "# we have 7 locations\n",
    "# we want to have mean of insured claims payment respectively wrt location\n",
    "print(insuranceData.drop(['Make','Kilometres','Bonus'], axis=1).groupby('Zone').mean())\n",
    "\n",
    "print(\"\\n\")\n",
    "\n",
    "# for the Kilometres\n",
    "# we have 5 categories for Kilometers\n",
    "# we want to have mean of insured claims payment respectively wrt Kilometers\n",
    "print(insuranceData.drop(['Make','Zone','Bonus'], axis=1).groupby('Kilometres').mean())\n",
    "\n",
    "print(\"\\n\")\n",
    "\n",
    "# for the Bonus\n",
    "# we have 7 Bonus values\n",
    "# we want to have mean of insured claims payment respectively wrt Bonus\n",
    "print(insuranceData.drop(['Make','Zone','Kilometres'], axis=1).groupby('Bonus').mean())"
   ]
  },
  {
   "cell_type": "code",
   "execution_count": null,
   "id": "b757eb76",
   "metadata": {},
   "outputs": [],
   "source": [
    "# Conclusions:\n",
    "# Zone 4 has the highest Insured, claims and Payments\n",
    "# Kilometres 2 has the highest Payment and Claims though the Insured is lesser than the Kilometres 1\n",
    "# Bonus 7 has the highest value for the Insure, Claims as well as for Payments."
   ]
  },
  {
   "cell_type": "markdown",
   "id": "ad9014b2",
   "metadata": {},
   "source": [
    "### The committee wants to understand what affects their claim rates to decide the right premiums for a certain set of situations. Hence, they need to find whether the insured amount, zone, kilometer, bonus, or make affects the claim rates and to what extent."
   ]
  },
  {
   "cell_type": "code",
   "execution_count": 97,
   "id": "3215f6ae",
   "metadata": {},
   "outputs": [
    {
     "data": {
      "text/html": [
       "<table class=\"simpletable\">\n",
       "<caption>OLS Regression Results</caption>\n",
       "<tr>\n",
       "  <th>Dep. Variable:</th>         <td>Claims</td>      <th>  R-squared:         </th> <td>   0.842</td> \n",
       "</tr>\n",
       "<tr>\n",
       "  <th>Model:</th>                   <td>OLS</td>       <th>  Adj. R-squared:    </th> <td>   0.842</td> \n",
       "</tr>\n",
       "<tr>\n",
       "  <th>Method:</th>             <td>Least Squares</td>  <th>  F-statistic:       </th> <td>   2328.</td> \n",
       "</tr>\n",
       "<tr>\n",
       "  <th>Date:</th>             <td>Mon, 22 Nov 2021</td> <th>  Prob (F-statistic):</th>  <td>  0.00</td>  \n",
       "</tr>\n",
       "<tr>\n",
       "  <th>Time:</th>                 <td>19:18:52</td>     <th>  Log-Likelihood:    </th> <td> -12659.</td> \n",
       "</tr>\n",
       "<tr>\n",
       "  <th>No. Observations:</th>      <td>  2182</td>      <th>  AIC:               </th> <td>2.533e+04</td>\n",
       "</tr>\n",
       "<tr>\n",
       "  <th>Df Residuals:</th>          <td>  2176</td>      <th>  BIC:               </th> <td>2.536e+04</td>\n",
       "</tr>\n",
       "<tr>\n",
       "  <th>Df Model:</th>              <td>     5</td>      <th>                     </th>     <td> </td>    \n",
       "</tr>\n",
       "<tr>\n",
       "  <th>Covariance Type:</th>      <td>nonrobust</td>    <th>                     </th>     <td> </td>    \n",
       "</tr>\n",
       "</table>\n",
       "<table class=\"simpletable\">\n",
       "<tr>\n",
       "       <td></td>         <th>coef</th>     <th>std err</th>      <th>t</th>      <th>P>|t|</th>  <th>[0.025</th>    <th>0.975]</th>  \n",
       "</tr>\n",
       "<tr>\n",
       "  <th>Intercept</th>  <td>   37.1230</td> <td>    7.127</td> <td>    5.209</td> <td> 0.000</td> <td>   23.146</td> <td>   51.100</td>\n",
       "</tr>\n",
       "<tr>\n",
       "  <th>Kilometres</th> <td>   -3.9649</td> <td>    1.226</td> <td>   -3.235</td> <td> 0.001</td> <td>   -6.368</td> <td>   -1.562</td>\n",
       "</tr>\n",
       "<tr>\n",
       "  <th>Zone</th>       <td>   -6.2924</td> <td>    0.865</td> <td>   -7.277</td> <td> 0.000</td> <td>   -7.988</td> <td>   -4.597</td>\n",
       "</tr>\n",
       "<tr>\n",
       "  <th>Bonus</th>      <td>   -4.2468</td> <td>    0.871</td> <td>   -4.877</td> <td> 0.000</td> <td>   -5.954</td> <td>   -2.539</td>\n",
       "</tr>\n",
       "<tr>\n",
       "  <th>Make</th>       <td>    6.7725</td> <td>    0.676</td> <td>   10.025</td> <td> 0.000</td> <td>    5.448</td> <td>    8.097</td>\n",
       "</tr>\n",
       "<tr>\n",
       "  <th>Insured</th>    <td>    0.0319</td> <td>    0.000</td> <td>  100.933</td> <td> 0.000</td> <td>    0.031</td> <td>    0.032</td>\n",
       "</tr>\n",
       "</table>\n",
       "<table class=\"simpletable\">\n",
       "<tr>\n",
       "  <th>Omnibus:</th>       <td>2561.874</td> <th>  Durbin-Watson:     </th>  <td>   1.931</td>  \n",
       "</tr>\n",
       "<tr>\n",
       "  <th>Prob(Omnibus):</th>  <td> 0.000</td>  <th>  Jarque-Bera (JB):  </th> <td>1103060.709</td>\n",
       "</tr>\n",
       "<tr>\n",
       "  <th>Skew:</th>           <td> 5.491</td>  <th>  Prob(JB):          </th>  <td>    0.00</td>  \n",
       "</tr>\n",
       "<tr>\n",
       "  <th>Kurtosis:</th>       <td>112.599</td> <th>  Cond. No.          </th>  <td>2.41e+04</td>  \n",
       "</tr>\n",
       "</table><br/><br/>Notes:<br/>[1] Standard Errors assume that the covariance matrix of the errors is correctly specified.<br/>[2] The condition number is large, 2.41e+04. This might indicate that there are<br/>strong multicollinearity or other numerical problems."
      ],
      "text/plain": [
       "<class 'statsmodels.iolib.summary.Summary'>\n",
       "\"\"\"\n",
       "                            OLS Regression Results                            \n",
       "==============================================================================\n",
       "Dep. Variable:                 Claims   R-squared:                       0.842\n",
       "Model:                            OLS   Adj. R-squared:                  0.842\n",
       "Method:                 Least Squares   F-statistic:                     2328.\n",
       "Date:                Mon, 22 Nov 2021   Prob (F-statistic):               0.00\n",
       "Time:                        19:18:52   Log-Likelihood:                -12659.\n",
       "No. Observations:                2182   AIC:                         2.533e+04\n",
       "Df Residuals:                    2176   BIC:                         2.536e+04\n",
       "Df Model:                           5                                         \n",
       "Covariance Type:            nonrobust                                         \n",
       "==============================================================================\n",
       "                 coef    std err          t      P>|t|      [0.025      0.975]\n",
       "------------------------------------------------------------------------------\n",
       "Intercept     37.1230      7.127      5.209      0.000      23.146      51.100\n",
       "Kilometres    -3.9649      1.226     -3.235      0.001      -6.368      -1.562\n",
       "Zone          -6.2924      0.865     -7.277      0.000      -7.988      -4.597\n",
       "Bonus         -4.2468      0.871     -4.877      0.000      -5.954      -2.539\n",
       "Make           6.7725      0.676     10.025      0.000       5.448       8.097\n",
       "Insured        0.0319      0.000    100.933      0.000       0.031       0.032\n",
       "==============================================================================\n",
       "Omnibus:                     2561.874   Durbin-Watson:                   1.931\n",
       "Prob(Omnibus):                  0.000   Jarque-Bera (JB):          1103060.709\n",
       "Skew:                           5.491   Prob(JB):                         0.00\n",
       "Kurtosis:                     112.599   Cond. No.                     2.41e+04\n",
       "==============================================================================\n",
       "\n",
       "Notes:\n",
       "[1] Standard Errors assume that the covariance matrix of the errors is correctly specified.\n",
       "[2] The condition number is large, 2.41e+04. This might indicate that there are\n",
       "strong multicollinearity or other numerical problems.\n",
       "\"\"\""
      ]
     },
     "execution_count": 97,
     "metadata": {},
     "output_type": "execute_result"
    }
   ],
   "source": [
    "# Independent variable: insured, make, bonus, zone, and kilometers\n",
    "# Dependent variable: Claims\n",
    "\n",
    "# we need to analyse the pValues in order to comment\n",
    "import statsmodels.formula.api as smapi\n",
    "model1 = smapi.ols(formula='Claims ~ Kilometres + Zone + Bonus + Make + Insured ',data=insuranceData).fit()\n",
    "model1.summary()\n"
   ]
  },
  {
   "cell_type": "code",
   "execution_count": 98,
   "id": "01d0a95b",
   "metadata": {},
   "outputs": [],
   "source": [
    "# conslusion:\n",
    "# we can see that all the variables are significant wrt the Claims (pValues < 0.05)"
   ]
  },
  {
   "cell_type": "code",
   "execution_count": 99,
   "id": "3683bbf8",
   "metadata": {},
   "outputs": [],
   "source": [
    "##importing library to plot the regression line graph"
   ]
  },
  {
   "cell_type": "code",
   "execution_count": 100,
   "id": "da1d35f8",
   "metadata": {},
   "outputs": [],
   "source": [
    "import matplotlib.pyplot as plt"
   ]
  },
  {
   "cell_type": "code",
   "execution_count": 101,
   "id": "d0b2122e",
   "metadata": {},
   "outputs": [],
   "source": [
    "##predicting the values"
   ]
  },
  {
   "cell_type": "code",
   "execution_count": 102,
   "id": "4ec5bbe0",
   "metadata": {},
   "outputs": [],
   "source": [
    "pred = model1.predict()"
   ]
  },
  {
   "cell_type": "code",
   "execution_count": 103,
   "id": "e504fe36",
   "metadata": {},
   "outputs": [
    {
     "data": {
      "text/plain": [
       "array([43.89628154, 38.36839611, 45.25916676, ..., -8.97804891,\n",
       "       -1.87948799, 16.74250987])"
      ]
     },
     "execution_count": 103,
     "metadata": {},
     "output_type": "execute_result"
    }
   ],
   "source": [
    "pred"
   ]
  },
  {
   "cell_type": "code",
   "execution_count": 104,
   "id": "588ec84c",
   "metadata": {},
   "outputs": [],
   "source": [
    "x=insuranceData.drop(['Claims'],axis=1)\n",
    "x=insuranceData.drop(['Payment'],axis=1).values\n",
    "y=insuranceData['Claims'].values"
   ]
  },
  {
   "cell_type": "code",
   "execution_count": 105,
   "id": "43e0820d",
   "metadata": {},
   "outputs": [],
   "source": [
    "import matplotlib.pyplot as plt"
   ]
  },
  {
   "cell_type": "code",
   "execution_count": 106,
   "id": "926d0975",
   "metadata": {},
   "outputs": [
    {
     "data": {
      "image/png": "[encoded data removed]",
      "text/plain": [
       "<Figure size 432x288 with 1 Axes>"
      ]
     },
     "metadata": {
      "needs_background": "light"
     },
     "output_type": "display_data"
    }
   ],
   "source": [
    "### plotting the graph\n",
    "plt.plot(y,x,'.')\n",
    "plt.plot(y,pred,'r',linewidth=1)\n",
    "plt.ylabel('Claims')\n",
    "plt.xlabel('multiple variables')\n",
    "plt.title('Multiple Linear Regression')\n",
    "plt.show()"
   ]
  },
  {
   "cell_type": "markdown",
   "id": "3e109116",
   "metadata": {},
   "source": [
    "here , we see all the P values are significantly high hence we can assume that kilometer, zone , insured, bonus , make are making impacts on claims. "
   ]
  },
  {
   "cell_type": "code",
   "execution_count": null,
   "id": "2bb95fc4",
   "metadata": {},
   "outputs": [],
   "source": []
  },
  {
   "cell_type": "code",
   "execution_count": null,
   "id": "c85d0fe1",
   "metadata": {},
   "outputs": [],
   "source": []
  },
  {
   "cell_type": "code",
   "execution_count": null,
   "id": "1994813c",
   "metadata": {},
   "outputs": [],
   "source": []
  },
  {
   "cell_type": "code",
   "execution_count": null,
   "id": "53a616f2",
   "metadata": {},
   "outputs": [],
   "source": []
  }
 ],
 "metadata": {
  "kernelspec": {
   "display_name": "Python 3",
   "language": "python",
   "name": "python3"
  },
  "language_info": {
   "codemirror_mode": {
    "name": "ipython",
    "version": 3
   },
   "file_extension": ".py",
   "mimetype": "text/x-python",
   "name": "python",
   "nbconvert_exporter": "python",
   "pygments_lexer": "ipython3",
   "version": "3.8.8"
  }
 },
 "nbformat": 4,
 "nbformat_minor": 5
}
